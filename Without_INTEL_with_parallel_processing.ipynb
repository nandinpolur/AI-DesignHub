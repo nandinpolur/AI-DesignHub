{
  "nbformat": 4,
  "nbformat_minor": 0,
  "metadata": {
    "colab": {
      "provenance": []
    },
    "kernelspec": {
      "name": "python3",
      "display_name": "Python 3"
    },
    "language_info": {
      "name": "python"
    }
  },
  "cells": [
    {
      "cell_type": "code",
      "execution_count": 1,
      "metadata": {
        "colab": {
          "base_uri": "https://localhost:8080/"
        },
        "id": "CYjzP8LQt1p1",
        "outputId": "ed1c5d9f-15dd-4a82-a810-4ca40a9c6555"
      },
      "outputs": [
        {
          "output_type": "stream",
          "name": "stdout",
          "text": [
            "Requirement already satisfied: pandas in /usr/local/lib/python3.10/dist-packages (2.2.2)\n",
            "Requirement already satisfied: numpy>=1.22.4 in /usr/local/lib/python3.10/dist-packages (from pandas) (1.26.4)\n",
            "Requirement already satisfied: python-dateutil>=2.8.2 in /usr/local/lib/python3.10/dist-packages (from pandas) (2.8.2)\n",
            "Requirement already satisfied: pytz>=2020.1 in /usr/local/lib/python3.10/dist-packages (from pandas) (2024.2)\n",
            "Requirement already satisfied: tzdata>=2022.7 in /usr/local/lib/python3.10/dist-packages (from pandas) (2024.2)\n",
            "Requirement already satisfied: six>=1.5 in /usr/local/lib/python3.10/dist-packages (from python-dateutil>=2.8.2->pandas) (1.17.0)\n",
            "Requirement already satisfied: scikit-learn in /usr/local/lib/python3.10/dist-packages (1.6.0)\n",
            "Requirement already satisfied: numpy>=1.19.5 in /usr/local/lib/python3.10/dist-packages (from scikit-learn) (1.26.4)\n",
            "Requirement already satisfied: scipy>=1.6.0 in /usr/local/lib/python3.10/dist-packages (from scikit-learn) (1.13.1)\n",
            "Requirement already satisfied: joblib>=1.2.0 in /usr/local/lib/python3.10/dist-packages (from scikit-learn) (1.4.2)\n",
            "Requirement already satisfied: threadpoolctl>=3.1.0 in /usr/local/lib/python3.10/dist-packages (from scikit-learn) (3.5.0)\n",
            "Requirement already satisfied: xgboost in /usr/local/lib/python3.10/dist-packages (2.1.3)\n",
            "Requirement already satisfied: numpy in /usr/local/lib/python3.10/dist-packages (from xgboost) (1.26.4)\n",
            "Requirement already satisfied: nvidia-nccl-cu12 in /usr/local/lib/python3.10/dist-packages (from xgboost) (2.23.4)\n",
            "Requirement already satisfied: scipy in /usr/local/lib/python3.10/dist-packages (from xgboost) (1.13.1)\n",
            "Requirement already satisfied: joblib in /usr/local/lib/python3.10/dist-packages (1.4.2)\n"
          ]
        }
      ],
      "source": [
        "# Install standard Python libraries\n",
        "!pip install pandas\n",
        "!pip install scikit-learn\n",
        "!pip install xgboost\n",
        "!pip install joblib"
      ]
    },
    {
      "cell_type": "code",
      "source": [
        "\n",
        "# Import necessary libraries\n",
        "import numpy as np\n",
        "import pandas as pd\n",
        "from sklearn.preprocessing import StandardScaler\n",
        "from sklearn.model_selection import train_test_split\n",
        "from sklearn.metrics import confusion_matrix, roc_curve, auc\n",
        "from xgboost import XGBRegressor\n",
        "from joblib import Parallel, delayed\n",
        "import matplotlib.pyplot as plt\n",
        "import seaborn as sns\n",
        "import time"
      ],
      "metadata": {
        "id": "i_DtuOKEt-GF"
      },
      "execution_count": 2,
      "outputs": []
    },
    {
      "cell_type": "code",
      "source": [
        "from google.colab import drive\n",
        "drive.mount('/content/drive')"
      ],
      "metadata": {
        "colab": {
          "base_uri": "https://localhost:8080/"
        },
        "id": "MrE2oxYvuLbU",
        "outputId": "ff8b29f0-6dde-4d73-a8a7-c41bc928c191"
      },
      "execution_count": 3,
      "outputs": [
        {
          "output_type": "stream",
          "name": "stdout",
          "text": [
            "Mounted at /content/drive\n"
          ]
        }
      ]
    },
    {
      "cell_type": "code",
      "source": [
        "\n",
        "# Load data using Pandas\n",
        "train_df = pd.read_csv('/content/drive/MyDrive/INTEL_AI/PM_train.txt', sep=\" \", header=None).dropna(axis=1)\n",
        "test_df = pd.read_csv('/content/drive/MyDrive/INTEL_AI/PM_test.txt', sep=\" \", header=None).dropna(axis=1)\n",
        "truth_df = pd.read_csv('/content/drive/MyDrive/INTEL_AI/PM_truth.txt', sep=\" \", header=None).dropna(axis=1)\n",
        "\n",
        "# Preprocessing\n",
        "cols_names = ['id', 'cycle', 'setting1', 'setting2', 'setting3'] + [f's{i}' for i in range(1, 22)]\n",
        "train_df.columns = cols_names\n",
        "test_df.columns = cols_names\n",
        "truth_df.columns = ['additional_rul']\n",
        "\n",
        "train_df['RUL'] = train_df.groupby('id')['cycle'].transform('max') - train_df['cycle']\n",
        "rul = test_df.groupby('id')['cycle'].max().reset_index()\n",
        "rul.columns = ['id', 'max_cycle']\n",
        "truth_df['id'] = truth_df.index + 1\n",
        "truth_df = truth_df.merge(rul, on='id', how='left')\n",
        "truth_df['RUL'] = truth_df['max_cycle'] + truth_df['additional_rul']\n",
        "test_df = test_df.merge(truth_df[['id', 'RUL']], on='id', how='left')\n",
        "test_df['RUL'] = test_df['RUL'] - test_df['cycle']\n",
        "\n",
        "# Parallelized feature scaling\n",
        "features = [col for col in cols_names if col not in ['id', 'cycle', 'RUL']]\n",
        "scaler = StandardScaler()\n",
        "\n",
        "def scale_data(df):\n",
        "    df[features] = scaler.fit_transform(df[features])\n",
        "    return df\n",
        "\n",
        "train_df, test_df = Parallel(n_jobs=-1)(delayed(scale_data)(df) for df in [train_df, test_df])\n",
        "\n",
        "# Prepare data for training and testing\n",
        "X = train_df[features].values\n",
        "y = train_df['RUL'].values\n",
        "X_test = test_df[features].values\n",
        "y_test = test_df['RUL'].values\n",
        "\n",
        "# Train-test split\n",
        "X_train, X_val, y_train, y_val = train_test_split(X, y, test_size=0.2, random_state=42)\n",
        "\n",
        "# Train standard XGBoost model\n",
        "xgb_model = XGBRegressor(n_estimators=200, max_depth=8, learning_rate=0.05, subsample=0.8)\n",
        "train_start = time.time()\n",
        "xgb_model.fit(X_train, y_train)\n",
        "train_time_standard = time.time() - train_start\n",
        "print(f\"Training Time with Standard Libraries and Parallel Processing: {train_time_standard:.2f} seconds\")"
      ],
      "metadata": {
        "colab": {
          "base_uri": "https://localhost:8080/"
        },
        "id": "wfgNqiqjuIG1",
        "outputId": "c72cf8fd-89e5-4c7c-8ad6-bee9f5984edf"
      },
      "execution_count": 4,
      "outputs": [
        {
          "output_type": "stream",
          "name": "stdout",
          "text": [
            "Training Time with Standard Libraries and Parallel Processing: 3.30 seconds\n"
          ]
        }
      ]
    },
    {
      "cell_type": "code",
      "source": [
        "\n",
        "# Predict RUL on validation and test data\n",
        "y_val_pred = xgb_model.predict(X_val)\n",
        "y_test_pred = xgb_model.predict(X_test)\n",
        "\n",
        "# Define a threshold for binary classification (e.g., w1 = 30 cycles)\n",
        "w1 = 30\n",
        "y_test_binary = (y_test <= w1).astype(int)  # Actual test labels\n",
        "y_test_pred_binary = (y_test_pred <= w1).astype(int)\n",
        "\n",
        "# Print Confusion Matrix for Binary Predictions\n",
        "conf_matrix = confusion_matrix(y_test_binary, y_test_pred_binary)\n",
        "plt.figure(figsize=(8, 6))\n",
        "sns.heatmap(conf_matrix, annot=True, fmt='d', cmap='Blues',\n",
        "            xticklabels=['No Failure', 'Failure'], yticklabels=['No Failure', 'Failure'])\n",
        "plt.title('Confusion Matrix', fontsize=16)\n",
        "plt.xlabel('Predicted', fontsize=14)\n",
        "plt.ylabel('Actual', fontsize=14)\n",
        "plt.show()"
      ],
      "metadata": {
        "colab": {
          "base_uri": "https://localhost:8080/",
          "height": 571
        },
        "id": "ufaqUSMaukp1",
        "outputId": "ece005ab-c568-41e5-ec68-84fd767a1af1"
      },
      "execution_count": 5,
      "outputs": [
        {
          "output_type": "display_data",
          "data": {
            "text/plain": [
              "<Figure size 800x600 with 2 Axes>"
            ],
            "image/png": "[encoded data removed]"
          },
          "metadata": {}
        }
      ]
    }
  ]
}